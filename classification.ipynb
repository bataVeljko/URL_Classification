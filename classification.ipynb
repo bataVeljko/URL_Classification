{
 "cells": [
  {
   "cell_type": "code",
   "execution_count": 1,
   "metadata": {},
   "outputs": [],
   "source": [
    "import imblearn\n",
    "import pandas as pd\n",
    "from sklearn.model_selection import train_test_split\n",
    "from sklearn.metrics import confusion_matrix\n",
    "from sklearn.tree import DecisionTreeClassifier\n",
    "from sklearn.ensemble import RandomForestClassifier\n",
    "from sklearn.neighbors import KNeighborsClassifier\n",
    "from sklearn import preprocessing\n",
    "from sklearn import metrics\n",
    "import time\n",
    "from joblib import dump, load\n",
    "import os"
   ]
  },
  {
   "cell_type": "code",
   "execution_count": 2,
   "metadata": {},
   "outputs": [],
   "source": [
    "def fit_model(model, xs_train, xs_test, ys_train, ys_test, mode, method):\n",
    "    if mode == 'save':\n",
    "        model.fit(xs_train, ys_train.ravel())\n",
    "        dump(model, os.path.join('models', method + '.joblib'))\n",
    "    print(f\"Rezultat trening skupa: {model.score(xs_train, ys_train):.3f}\")\n",
    "    print(f\"Rezultat test skupa: {model.score(xs_test, ys_test):.3f}\")\n",
    "\n",
    "\n",
    "def prediction(model, x_train, x_test, y_train, y_test):\n",
    "    y_train_predicted = model.predict(x_train)\n",
    "    y_test_predicted = model.predict(x_test)\n",
    "    print(\"Matrica kofuzije trening skupa:\\n\" + str(confusion_matrix(y_train, y_train_predicted)))\n",
    "    print(\"Matrica kofuzije test skupa:\\n\" + str(confusion_matrix(y_test, y_test_predicted)))\n",
    "    # print(\"Metrika: \\n\" + str(metrics.classification_report(y_test, y_test_predicted)))\n",
    "\n",
    "\n",
    "# K nearest neighbours\n",
    "def knn(x_train, x_test, y_train, y_test, non, mode, rtype):\n",
    "    print(\"-----K najblizih suseda: \" + rtype + \" -----\")\n",
    "    start = time.time()\n",
    "    if mode == 'load':\n",
    "        model = load(os.path.join('models', 'knn_' + rtype + '.joblib'))\n",
    "    else:\n",
    "        model = KNeighborsClassifier(n_neighbors=non, weights='uniform')\n",
    "    fit_model(model, x_train, x_test, y_train, y_test, mode, 'knn_' + rtype)\n",
    "    prediction(model, x_train, x_test, y_train, y_test)\n",
    "    print(f\"Vreme izvrsavanja: {time.time()-start:.3f} \\n\")\n",
    "\n",
    "\n",
    "# Decision tree classifier\n",
    "def dtc(xs_train, xs_test, ys_train, ys_test, mode, rtype, criteria, depth):\n",
    "    print(\"-----Drvo odlucivanja: \" + rtype + \" -----\")\n",
    "    start = time.time()\n",
    "    if mode == 'load':\n",
    "        model = load(os.path.join('models', 'dtc_' + rtype + '.joblib'))\n",
    "    else:\n",
    "        model = DecisionTreeClassifier(criterion=criteria, max_depth=depth)\n",
    "    fit_model(model, xs_train, xs_test, ys_train, ys_test, mode, 'dtc_' + rtype)\n",
    "    prediction(model, xs_train, xs_test, ys_train, ys_test)\n",
    "    print(f\"Vreme izvrsavanja: {time.time() - start:.3f} \\n\")\n",
    "    \n",
    "\n",
    "# Random forest classifier\n",
    "def rfc(x_train, x_test, y_train, y_test, n_est, mode, rtype, maxd):\n",
    "    print(\"-----Nasumicna suma: \" + rtype + \" -----\")\n",
    "    start = time.time()\n",
    "    if mode == 'load':\n",
    "        model = load(os.path.join('models', 'rfc_' + rtype + '.joblib'))\n",
    "    else:\n",
    "        model = RandomForestClassifier(n_estimators=n_est, max_depth=maxd, criterion='gini')\n",
    "    # noinspection PyTypeChecker\n",
    "    fit_model(model, x_train, x_test, y_train, y_test, mode, 'rfc_' + rtype)\n",
    "    prediction(model, x_train, x_test, y_train, y_test)\n",
    "    print(f\"Vreme izvrsavanja: {time.time() - start:.3f} \\n\")"
   ]
  },
  {
   "cell_type": "code",
   "execution_count": 4,
   "metadata": {},
   "outputs": [],
   "source": [
    "file = 'data_for_classification.csv'\n",
    "df = pd.read_csv(file)\n",
    "\n",
    "x = df.loc[:, df.columns != 'url']  # string\n",
    "x = x.loc[:, x.columns != 'class']  # class\n",
    "\n",
    "# With ejecting this columns, results are getting worse for 0.02 - 0.03 => Do not eject them\n",
    "# x = x.loc[:, x.columns != 'deep_url_len']  # correlation with url_len is 0.98\n",
    "# x = x.loc[:, x.columns != 'tld_in_abused']  # correlation if NaN for some reason\n",
    "# x = x.loc[:, x.columns != 'num_of_reserved_char']  # correlation with num_of_sub_deli is 0.96\n",
    "\n",
    "x = x.values[:, :]\n",
    "y = df.values[:, -1]\n",
    "y = y.astype('int')"
   ]
  },
  {
   "cell_type": "code",
   "execution_count": 5,
   "metadata": {},
   "outputs": [],
   "source": [
    "x_train_val, x_test, y_train_val, y_test = train_test_split(x, y, test_size=0.3)\n",
    "x_train, x_val, y_train, y_val = train_test_split(x_train_val, y_train_val, test_size=0.2)"
   ]
  },
  {
   "cell_type": "code",
   "execution_count": null,
   "metadata": {},
   "outputs": [],
   "source": [
    "scaler = preprocessing.StandardScaler()\n",
    "scaler.fit(x_train)\n",
    "x_train = scaler.transform(x_train)\n",
    "x_val = scaler.transform(x_val)\n",
    "x_test = scaler.transform(x_test)"
   ]
  },
  {
   "cell_type": "code",
   "execution_count": 8,
   "metadata": {},
   "outputs": [
    {
     "name": "stdout",
     "output_type": "stream",
     "text": [
      "5 None 0.9613199614430157\n",
      "5 5 0.9347419070069749\n",
      "5 10 0.9521800843645668\n",
      "5 20 0.9611661333739652\n",
      "10 None 0.9628412044504259\n",
      "10 5 0.9377366387323465\n",
      "10 10 0.9500113767893711\n",
      "10 20 0.9623947082313015\n",
      "20 None 0.9641817361709107\n",
      "20 5 0.9359464441641603\n",
      "20 10 0.9524912399796348\n",
      "20 20 0.9635950404837761\n",
      "50 None 0.9651273542876456\n",
      "50 5 0.9366904097874781\n",
      "50 10 0.9530961712992051\n",
      "50 20 0.9640677828431023\n",
      "75 None 0.9650514250626822\n",
      "75 5 0.9378413372143962\n",
      "75 10 0.9532508974870363\n",
      "75 20 0.963978964039879\n",
      "100 None 0.9651910397641181\n",
      "100 5 0.9370772101702822\n",
      "100 10 0.9533337327023303\n",
      "100 20 0.964114225384998\n"
     ]
    }
   ],
   "source": [
    "n_est = [5, 10, 20, 50, 75, 100]\n",
    "max_depths = [None, 5, 10, 20]\n",
    "for n in n_est:\n",
    "    for max_d in max_depths:\n",
    "        model = RandomForestClassifier(n_estimators=n, max_depth=max_d, criterion='gini')\n",
    "        model.fit(x_train, y_train)\n",
    "        f1_score = metrics.f1_score(y_val, model.predict(x_val))\n",
    "        print(str(n) + \" \" + str(max_d) + \" \" + str(f1_score))"
   ]
  },
  {
   "cell_type": "code",
   "execution_count": 16,
   "metadata": {},
   "outputs": [
    {
     "name": "stdout",
     "output_type": "stream",
     "text": [
      "0.9492091986752916\n",
      "0.9378218577150486\n",
      "0.9492039423805912\n",
      "0.9504145700490965\n",
      "0.9497377089178968\n",
      "0.9478814381903078\n",
      "0.9468790828159656\n"
     ]
    }
   ],
   "source": [
    "non = [1, 2, 3, 5, 7, 10, 20]\n",
    "for n in non:\n",
    "    model = KNeighborsClassifier(n_neighbors=n, weights='uniform')\n",
    "    model.fit(x_train, y_train)\n",
    "    f1_score = metrics.f1_score(y_val, model.predict(x_val))\n",
    "    print(f1_score)"
   ]
  },
  {
   "cell_type": "code",
   "execution_count": 10,
   "metadata": {},
   "outputs": [],
   "source": [
    "ratio = 1/2\n",
    "friends_ros = imblearn.under_sampling.RandomUnderSampler(random_state=0, sampling_strategy=ratio)\n",
    "x_train_res, y_train_res = friends_ros.fit_resample(x_train, y_train)\n",
    "x_test_res, y_test_res = friends_ros.fit_resample(x_test, y_test)\n",
    "\n",
    "smote = imblearn.over_sampling.SMOTE(random_state=0, k_neighbors=5)\n",
    "x_train_res_smote, y_train_res_smote = smote.fit_resample(x_train, y_train)\n",
    "x_test_res_smote, y_test_res_smote = smote.fit_resample(x_test, y_test)"
   ]
  },
  {
   "cell_type": "code",
   "execution_count": 11,
   "metadata": {},
   "outputs": [
    {
     "name": "stdout",
     "output_type": "stream",
     "text": [
      "-----Drvo odlucivanja: NormalGiniNone -----\n",
      "Rezultat trening skupa: 0.981\n",
      "Rezultat test skupa: 0.925\n",
      "Matrica kofuzije trening skupa:\n",
      "[[ 35479   2155]\n",
      " [  2120 190666]]\n",
      "Matrica kofuzije test skupa:\n",
      "[[15457  4431]\n",
      " [ 4811 98741]]\n",
      "Vreme izvrsavanja: 3.435 \n",
      "\n",
      "-----Drvo odlucivanja: RatioGiniNone -----\n",
      "Rezultat trening skupa: 0.978\n",
      "Rezultat test skupa: 0.903\n",
      "Matrica kofuzije trening skupa:\n",
      "[[36514  1120]\n",
      " [ 1382 73886]]\n",
      "Matrica kofuzije test skupa:\n",
      "[[16752  3136]\n",
      " [ 8830 94722]]\n",
      "Vreme izvrsavanja: 1.401 \n",
      "\n",
      "-----Drvo odlucivanja: SmoteGiniNone -----\n",
      "Rezultat trening skupa: 0.980\n",
      "Rezultat test skupa: 0.921\n",
      "Matrica kofuzije trening skupa:\n",
      "[[188875   3911]\n",
      " [  3733 189053]]\n",
      "Matrica kofuzije test skupa:\n",
      "[[15948  3940]\n",
      " [ 5755 97797]]\n",
      "Vreme izvrsavanja: 4.323 \n",
      "\n"
     ]
    }
   ],
   "source": [
    "dtc(x_train, x_test, y_train, y_test, mode='save', rtype='NormalGiniNone', criteria='gini', depth=None)\n",
    "dtc(x_train_res, x_test, y_train_res, y_test, mode='save', rtype='RatioGiniNone', criteria='gini', depth=None)\n",
    "dtc(x_train_res_smote, x_test, y_train_res_smote, y_test, mode='save', rtype='SmoteGiniNone', criteria='gini', depth=None)"
   ]
  },
  {
   "cell_type": "code",
   "execution_count": 12,
   "metadata": {},
   "outputs": [
    {
     "name": "stdout",
     "output_type": "stream",
     "text": [
      "-----Drvo odlucivanja: NormalEntropyNone -----\n",
      "Rezultat trening skupa: 0.981\n",
      "Rezultat test skupa: 0.927\n",
      "Matrica kofuzije trening skupa:\n",
      "[[ 35479   2155]\n",
      " [  2120 190666]]\n",
      "Matrica kofuzije test skupa:\n",
      "[[15424  4464]\n",
      " [ 4563 98989]]\n",
      "Vreme izvrsavanja: 1.904 \n",
      "\n",
      "-----Drvo odlucivanja: RatioEntropyNone -----\n",
      "Rezultat trening skupa: 0.978\n",
      "Rezultat test skupa: 0.905\n",
      "Matrica kofuzije trening skupa:\n",
      "[[36514  1120]\n",
      " [ 1382 73886]]\n",
      "Matrica kofuzije test skupa:\n",
      "[[16822  3066]\n",
      " [ 8635 94917]]\n",
      "Vreme izvrsavanja: 0.842 \n",
      "\n",
      "-----Drvo odlucivanja: SmoteEntropyNone -----\n",
      "Rezultat trening skupa: 0.980\n",
      "Rezultat test skupa: 0.921\n",
      "Matrica kofuzije trening skupa:\n",
      "[[188875   3911]\n",
      " [  3733 189053]]\n",
      "Matrica kofuzije test skupa:\n",
      "[[15859  4029]\n",
      " [ 5720 97832]]\n",
      "Vreme izvrsavanja: 3.430 \n",
      "\n"
     ]
    }
   ],
   "source": [
    "dtc(x_train, x_test, y_train, y_test, mode='save', rtype='NormalEntropyNone', criteria='entropy', depth=None)\n",
    "dtc(x_train_res, x_test, y_train_res, y_test, mode='save', rtype='RatioEntropyNone', criteria='entropy', depth=None)\n",
    "dtc(x_train_res_smote, x_test, y_train_res_smote, y_test, mode='save', rtype='SmoteEntropyNone', criteria='entropy', depth=None)"
   ]
  },
  {
   "cell_type": "code",
   "execution_count": 13,
   "metadata": {},
   "outputs": [
    {
     "name": "stdout",
     "output_type": "stream",
     "text": [
      "-----Nasumicna suma: Norma50 -----\n",
      "Rezultat trening skupa: 0.981\n",
      "Rezultat test skupa: 0.941\n",
      "Matrica kofuzije trening skupa:\n",
      "[[ 35005   2629]\n",
      " [  1666 191120]]\n",
      "Matrica kofuzije test skupa:\n",
      "[[ 15420   4468]\n",
      " [  2784 100768]]\n",
      "Vreme izvrsavanja: 24.705 \n",
      "\n",
      "-----Nasumicna suma: Ratio50 -----\n",
      "Rezultat trening skupa: 0.978\n",
      "Rezultat test skupa: 0.928\n",
      "Matrica kofuzije trening skupa:\n",
      "[[36257  1377]\n",
      " [ 1146 74122]]\n",
      "Matrica kofuzije test skupa:\n",
      "[[17030  2858]\n",
      " [ 6015 97537]]\n",
      "Vreme izvrsavanja: 9.690 \n",
      "\n",
      "-----Nasumicna suma: Smote50 -----\n",
      "Rezultat trening skupa: 0.980\n",
      "Rezultat test skupa: 0.938\n",
      "Matrica kofuzije trening skupa:\n",
      "[[188546   4240]\n",
      " [  3420 189366]]\n",
      "Matrica kofuzije test skupa:\n",
      "[[16235  3653]\n",
      " [ 4061 99491]]\n",
      "Vreme izvrsavanja: 36.111 \n",
      "\n"
     ]
    }
   ],
   "source": [
    "rfc(x_train, x_test, y_train, y_test, n_est=50, mode='save', rtype='Norma50', maxd=None)\n",
    "rfc(x_train_res, x_test, y_train_res, y_test, n_est=50, mode='save', rtype='Ratio50', maxd=None)\n",
    "rfc(x_train_res_smote, x_test, y_train_res_smote, y_test, n_est=50, mode='save', rtype='Smote50', maxd=None)"
   ]
  },
  {
   "cell_type": "code",
   "execution_count": 14,
   "metadata": {},
   "outputs": [
    {
     "name": "stdout",
     "output_type": "stream",
     "text": [
      "-----K najblizih suseda: Normal5 -----\n",
      "Rezultat trening skupa: 0.936\n",
      "Rezultat test skupa: 0.914\n",
      "Matrica kofuzije trening skupa:\n",
      "[[ 27722   9912]\n",
      " [  4766 188020]]\n",
      "Matrica kofuzije test skupa:\n",
      "[[13202  6686]\n",
      " [ 3939 99613]]\n",
      "Vreme izvrsavanja: 76.832 \n",
      "\n",
      "-----K najblizih suseda: Ratio5 -----\n",
      "Rezultat trening skupa: 0.885\n",
      "Rezultat test skupa: 0.856\n",
      "Matrica kofuzije trening skupa:\n",
      "[[33152  4482]\n",
      " [ 8550 66718]]\n",
      "Matrica kofuzije test skupa:\n",
      "[[16451  3437]\n",
      " [14330 89222]]\n",
      "Vreme izvrsavanja: 34.467 \n",
      "\n",
      "-----K najblizih suseda: Smote5 -----\n",
      "Rezultat trening skupa: 0.935\n",
      "Rezultat test skupa: 0.890\n",
      "Matrica kofuzije trening skupa:\n",
      "[[181157  11629]\n",
      " [ 13268 179518]]\n",
      "Matrica kofuzije test skupa:\n",
      "[[16188  3700]\n",
      " [ 9926 93626]]\n",
      "Vreme izvrsavanja: 197.852 \n",
      "\n"
     ]
    }
   ],
   "source": [
    "knn(x_train, x_test, y_train, y_test, non=5, mode='save', rtype='Normal5')\n",
    "knn(x_train_res, x_test, y_train_res, y_test, non=5, mode='save', rtype='Ratio5')\n",
    "knn(x_train_res_smote, x_test, y_train_res_smote, y_test, non=5, mode='save', rtype='Smote5')"
   ]
  },
  {
   "cell_type": "code",
   "execution_count": null,
   "metadata": {},
   "outputs": [],
   "source": []
  }
 ],
 "metadata": {
  "kernelspec": {
   "display_name": "Python 3",
   "language": "python",
   "name": "python3"
  },
  "language_info": {
   "codemirror_mode": {
    "name": "ipython",
    "version": 3
   },
   "file_extension": ".py",
   "mimetype": "text/x-python",
   "name": "python",
   "nbconvert_exporter": "python",
   "pygments_lexer": "ipython3",
   "version": "3.8.3"
  }
 },
 "nbformat": 4,
 "nbformat_minor": 4
}
