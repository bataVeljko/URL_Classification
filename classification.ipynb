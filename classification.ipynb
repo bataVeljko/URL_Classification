{
 "cells": [
  {
   "cell_type": "code",
   "execution_count": 4,
   "metadata": {},
   "outputs": [],
   "source": [
    "import imblearn\n",
    "import pandas as pd\n",
    "from sklearn.model_selection import train_test_split\n",
    "from sklearn.metrics import confusion_matrix\n",
    "from sklearn.tree import DecisionTreeClassifier\n",
    "from sklearn.ensemble import RandomForestClassifier\n",
    "import time"
   ]
  },
  {
   "cell_type": "code",
   "execution_count": 5,
   "metadata": {},
   "outputs": [],
   "source": [
    "def fit_model(model, xs_train, xs_test, ys_train, ys_test, mode, method):\n",
    "    model.fit(xs_train, ys_train.ravel())\n",
    "    print(f\"Rezultat trening skupa: {model.score(xs_train, ys_train):.3f}\")\n",
    "    print(f\"Rezultat test skupa: {model.score(xs_test, ys_test):.3f}\")\n",
    "\n",
    "\n",
    "def prediction(model, x_train, x_test, y_train, y_test):\n",
    "    y_train_predicted = model.predict(x_train)\n",
    "    y_test_predicted = model.predict(x_test)\n",
    "    print(\"Matrica kofuzije trening skupa:\\n\" + str(confusion_matrix(y_train, y_train_predicted)))\n",
    "    print(\"Matrica kofuzije test skupa:\\n\" + str(confusion_matrix(y_test, y_test_predicted)))\n",
    "    # print(\"Metrika: \\n\" + str(metrics.classification_report(y_test, y_test_predicted)))\n",
    "\n",
    "\n",
    "# Decision tree classifier\n",
    "def dtc(xs_train, xs_test, ys_train, ys_test, mode, rtype, criteria, depth):\n",
    "    print(\"-----Drvo odlucivanja:-----\")\n",
    "    start = time.time()\n",
    "    model = DecisionTreeClassifier(criterion=criteria, max_depth=depth)\n",
    "    fit_model(model, xs_train, xs_test, ys_train, ys_test, mode, 'dtc_' + rtype)\n",
    "    prediction(model, xs_train, xs_test, ys_train, ys_test)\n",
    "    print(f\"Vreme izvrsavanja: {time.time() - start:.3f} \\n\")\n",
    "    \n",
    "\n",
    "# Random forest classifier\n",
    "def rfc(x_train, x_test, y_train, y_test, n_est, mode, rtype):\n",
    "    print(\"-----Nasumicna suma:-----\")\n",
    "    start = time.time()\n",
    "    model = RandomForestClassifier(n_estimators=n_est, criterion='gini')\n",
    "    # noinspection PyTypeChecker\n",
    "    fit_model(model, x_train, x_test, y_train, y_test, mode, 'rfc_' + rtype)\n",
    "    prediction(model, x_train, x_test, y_train, y_test)\n",
    "    print(f\"Vreme izvrsavanja: {time.time() - start:.3f} \\n\")"
   ]
  },
  {
   "cell_type": "code",
   "execution_count": 6,
   "metadata": {},
   "outputs": [
    {
     "name": "stdout",
     "output_type": "stream",
     "text": [
      "-----Drvo odlucivanja:-----\n",
      "Rezultat trening skupa: 0.981\n",
      "Rezultat test skupa: 0.928\n",
      "Matrica kofuzije trening skupa:\n",
      "[[ 43895   2812]\n",
      " [  2636 238683]]\n",
      "Matrica kofuzije test skupa:\n",
      "[[15507  4452]\n",
      " [ 4458 99023]]\n",
      "Vreme izvrsavanja: 3.499 \n",
      "\n"
     ]
    }
   ],
   "source": [
    "def main():\n",
    "    file = 'data_for_classification.csv'\n",
    "    df = pd.read_csv(file)\n",
    "\n",
    "    x = df.loc[:, df.columns != 'url']\n",
    "    x = x.loc[:, x.columns != 'class']\n",
    "    x = x.values[:, :]\n",
    "    y = df.values[:, -1]\n",
    "    y = y.astype('int')\n",
    "\n",
    "    # print(y)\n",
    "\n",
    "    x_train, x_test, y_train, y_test = train_test_split(x, y, test_size=0.3)\n",
    "\n",
    "    ratio = 1/2\n",
    "    friends_ros = imblearn.over_sampling.RandomOverSampler(random_state=0, sampling_strategy=ratio)\n",
    "    x_train_res, y_train_res = friends_ros.fit_resample(x_train, y_train)\n",
    "    x_test_res, y_test_res = friends_ros.fit_resample(x_test, y_test)\n",
    "\n",
    "    dtc(x_train, x_test, y_train, y_test, mode='save', rtype='gen', criteria='gini', depth=None)\n",
    "\n",
    "\n",
    "if __name__ == '__main__':\n",
    "    main()"
   ]
  },
  {
   "cell_type": "code",
   "execution_count": null,
   "metadata": {},
   "outputs": [],
   "source": []
  }
 ],
 "metadata": {
  "kernelspec": {
   "display_name": "Python 3",
   "language": "python",
   "name": "python3"
  },
  "language_info": {
   "codemirror_mode": {
    "name": "ipython",
    "version": 3
   },
   "file_extension": ".py",
   "mimetype": "text/x-python",
   "name": "python",
   "nbconvert_exporter": "python",
   "pygments_lexer": "ipython3",
   "version": "3.8.3"
  }
 },
 "nbformat": 4,
 "nbformat_minor": 4
}
